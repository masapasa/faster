{
 "cells": [
  {
   "cell_type": "markdown",
   "metadata": {},
   "source": [
    "# dhblog"
   ]
  },
  {
   "cell_type": "markdown",
   "metadata": {},
   "source": [
    "Hello, I'm Aswin Pyakurel, Data Scientist, currently living in the french riviera. I love programming, and math and am a big fan of [fast.ai](https://www.fast.ai/). Here is where I share all the knowledge I discover along my AI journey\n",
    "\n",
    "You can find me at:\n",
    "\n",
    "- Twitter: [https://twitter.com/aswinpy](https://twitter.com/aswinpy)\n",
    "- Kaggle: [https://www.kaggle.com/masapasa](https://www.kaggle.com/masapasa)\n",
    "- Fast.ai Forum: [https://forums.fast.ai/u/masapasa/summary](https://forums.fast.ai/u/masapasa/summary)\n",
    "- LinkedIn: [https://www.linkedin.com/in/aswinpyakurel/](https://www.linkedin.com/in/aswinpyakurel/)"
   ]
  },
  {
   "cell_type": "markdown",
   "metadata": {},
   "source": []
  }
 ],
 "metadata": {
  "kernelspec": {
   "display_name": "Python 3.10.4 64-bit",
   "language": "python",
   "name": "python3"
  },
  "language_info": {
   "codemirror_mode": {
    "name": "ipython",
    "version": 3
   },
   "file_extension": ".py",
   "mimetype": "text/x-python",
   "name": "python",
   "nbconvert_exporter": "python",
   "pygments_lexer": "ipython3",
   "version": "3.10.6"
  },
  "vscode": {
   "interpreter": {
    "hash": "916dbcbb3f70747c44a77c7bcd40155683ae19c65e1c03b4aa3499c5328201f1"
   }
  }
 },
 "nbformat": 4,
 "nbformat_minor": 4
}
